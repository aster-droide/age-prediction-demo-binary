{
 "cells": [
  {
   "cell_type": "code",
   "execution_count": null,
   "id": "8642f315-93d3-4406-8f4a-0d2527dfe2ba",
   "metadata": {},
   "outputs": [],
   "source": [
    "# Standard imports\n",
    "import numpy as np\n",
    "import pandas as pd\n",
    "import random\n",
    "from datetime import datetime\n",
    "from collections import Counter\n",
    "\n",
    "# Sklearn imports\n",
    "from sklearn.model_selection import train_test_split, GroupShuffleSplit, GroupKFold, StratifiedGroupKFold\n",
    "from sklearn.preprocessing import LabelEncoder, MinMaxScaler, RobustScaler, StandardScaler\n",
    "from sklearn.metrics import accuracy_score, precision_score, recall_score, f1_score, confusion_matrix, classification_report\n",
    "from sklearn.utils.class_weight import compute_class_weight\n",
    "from sklearn.inspection import permutation_importance\n",
    "\n",
    "# Imbalanced-learn import\n",
    "from imblearn.over_sampling import SMOTE\n",
    "\n",
    "# TensorFlow and Keras imports\n",
    "import tensorflow as tf\n",
    "from tensorflow.keras.models import Sequential, Model\n",
    "from tensorflow.keras.layers import Dense, Dropout, Input, BatchNormalization, concatenate\n",
    "from tensorflow.keras.optimizers import Adam, RMSprop, SGD, Adamax, AdamW\n",
    "from tensorflow.keras.callbacks import EarlyStopping\n",
    "from tensorflow.keras.utils import to_categorical\n",
    "from keras.regularizers import l1, l2, L1L2\n",
    "\n",
    "# Optuna import\n",
    "import optuna\n",
    "\n",
    "# Visualization libraries\n",
    "import matplotlib.pyplot as plt\n",
    "import seaborn as sns\n",
    "\n",
    "# to save the scaler\n",
    "import joblib"
   ]
  },
  {
   "cell_type": "code",
   "execution_count": null,
   "id": "397e3b13-5869-4569-94c1-1c662c2d986f",
   "metadata": {},
   "outputs": [],
   "source": [
    "# Set a fixed random seed for reproducibility\n",
    "random.seed(5390) \n",
    "np.random.seed(5390)\n",
    "tf.random.set_seed(5390)\n",
    "\n",
    "# Load datasets\n",
    "dataframe = pd.read_csv('/Users/astrid/PycharmProjects/audioset-thesis-work/audioset/vggish/embeddings/8april_looped_embeddings.csv')\n",
    "\n",
    "dataframe.drop('mean_freq', axis=1, inplace=True)\n",
    "\n",
    "def assign_age_group(age, age_groups):\n",
    "    for group_name, age_range in age_groups.items():\n",
    "        if age_range[0] <= age < age_range[1]:\n",
    "            return group_name\n",
    "    return 'Unknown'  # For any age that doesn't fit the defined groups\n",
    "\n",
    "# Define age groups\n",
    "age_groups = {\n",
    "    'kitten': (0, 0.5),\n",
    "    'adult': (0.5, 10),\n",
    "    'senior': (10, 20)\n",
    "}\n",
    "\n",
    "# Create a new column for the age group\n",
    "dataframe['age_group'] = dataframe['target'].apply(assign_age_group, age_groups=age_groups)\n",
    "\n",
    "# Drop Adult\n",
    "dataframe.drop(dataframe[dataframe['age_group'] == 'adult'].index, inplace=True)\n",
    "\n",
    "print(dataframe['age_group'].value_counts())"
   ]
  },
  {
   "cell_type": "markdown",
   "id": "087f7e4f-740d-4b02-b607-a1250fe976e2",
   "metadata": {},
   "source": [
    "# save demo rows to external csv"
   ]
  },
  {
   "cell_type": "code",
   "execution_count": null,
   "id": "0d81d073-1297-4234-9573-d47d6e04cbe9",
   "metadata": {},
   "outputs": [],
   "source": [
    "# Select all rows corresponding to the specified cat_id values\n",
    "selected_cat_ids = ['108A', '109A']\n",
    "demo_samples = dataframe[dataframe['cat_id'].isin(selected_cat_ids)]\n",
    "\n",
    "Save the selected samples to a CSV file\n",
    "demo_samples.to_csv('demo_samples.csv', index=False)"
   ]
  },
  {
   "cell_type": "code",
   "execution_count": null,
   "id": "12a12fcd-e5fc-4ab4-a13d-949a94708d39",
   "metadata": {},
   "outputs": [],
   "source": [
    "demo_samples"
   ]
  },
  {
   "cell_type": "markdown",
   "id": "2ac7acdc-98df-4117-8a0e-6819f0beedce",
   "metadata": {},
   "source": [
    "## save embeddings and labels from demo set to .txt"
   ]
  },
  {
   "cell_type": "code",
   "execution_count": null,
   "id": "6820eab6-4253-4efd-9faa-8d55fa729cca",
   "metadata": {},
   "outputs": [],
   "source": [
    "# Ensure the target labels are encoded as 0 for kitten and 1 for senior\n",
    "demo_samples = demo_samples.copy()  # Avoid SettingWithCopyWarning\n",
    "demo_samples['label'] = demo_samples['age_group'].apply(lambda x: 0 if x == 'kitten' else 1)\n",
    "\n",
    "# Extract features and labels\n",
    "features = demo_samples.iloc[:, :-5].values\n",
    "labels = demo_samples['label'].values\n",
    "\n",
    "# Save each row to a separate .csv file\n",
    "for i, (feature_row, label) in enumerate(zip(features, labels)):\n",
    "    # Create a DataFrame for the current row\n",
    "    row_df = pd.DataFrame([np.append(feature_row, label)])\n",
    "    \n",
    "    # Create a filename\n",
    "    filename = f'demo_sample_{i}.csv'\n",
    "    \n",
    "    # Save to .csv file\n",
    "    row_df.to_csv(filename, index=False, header=False)\n",
    "    \n",
    "    print(f'Saved {filename}')\n"
   ]
  },
  {
   "cell_type": "code",
   "execution_count": null,
   "id": "e2e4ca59-8738-41fa-bedf-852b9d87f19c",
   "metadata": {},
   "outputs": [],
   "source": [
    "# Ensure the target labels are encoded as 0 for kitten and 1 for senior\n",
    "demo_samples = demo_samples.copy()  # Avoid SettingWithCopyWarning\n",
    "demo_samples['label'] = demo_samples['age_group'].apply(lambda x: 0 if x == 'kitten' else 1)\n",
    "\n",
    "# Extract features and labels\n",
    "features = demo_samples.iloc[:, :-5].values\n",
    "labels = demo_samples['label'].values\n",
    "\n",
    "# Combine features and labels into a single DataFrame\n",
    "combined_data = np.hstack((features, labels.reshape(-1, 1)))\n",
    "combined_df = pd.DataFrame(combined_data)\n",
    "\n",
    "# Create a filename for the combined CSV file\n",
    "combined_filename = 'combined_demo_samples.csv'\n",
    "\n",
    "# Save the combined data to a single CSV file\n",
    "combined_df.to_csv(combined_filename, index=False, header=False)\n",
    "\n",
    "print(f'Saved {combined_filename}')"
   ]
  },
  {
   "cell_type": "code",
   "execution_count": null,
   "id": "7f0bfa11-56c7-4cfc-91b6-e4ae252b452b",
   "metadata": {},
   "outputs": [],
   "source": [
    "# # Load the demo samples\n",
    "# demo_data = pd.read_csv('/Users/astrid/Documents/Thesis/JupyterNotebooks/April/PRODUCTION-MODEL/demo_samples.csv')\n",
    "\n",
    "# # Extract features (assuming the last four columns are not features)\n",
    "# X_demo = demo_data.iloc[:, :-4].values\n",
    "\n",
    "# # Set numpy print options to print the full array\n",
    "# np.set_printoptions(threshold=np.inf)\n",
    "\n",
    "# # Print the numpy array\n",
    "# print(X_demo)"
   ]
  },
  {
   "cell_type": "code",
   "execution_count": null,
   "id": "32faed01-7376-4bbd-a8e6-c257fccd8c13",
   "metadata": {},
   "outputs": [],
   "source": [
    "# Count the occurrences of each cat_id\n",
    "cat_id_counts = dataframe['cat_id'].value_counts().reset_index()\n",
    "cat_id_counts.columns = ['cat_id', 'count']\n",
    "\n",
    "# Merge with the age group information\n",
    "age_group_info = dataframe[['cat_id', 'age_group']].drop_duplicates()\n",
    "cat_id_counts_with_age_group = cat_id_counts.merge(age_group_info, on='cat_id')\n",
    "\n",
    "# Display the result\n",
    "print(cat_id_counts_with_age_group)"
   ]
  },
  {
   "cell_type": "code",
   "execution_count": null,
   "id": "b769c85b-b581-4525-994d-6be79017b9af",
   "metadata": {},
   "outputs": [],
   "source": [
    "# Separate features and labels\n",
    "X = dataframe.iloc[:, :-4].values  # all columns except the last four\n",
    "\n",
    "# Encode the 'age_group' column as integers using LabelEncoder\n",
    "label_encoder = LabelEncoder()\n",
    "encoded_y = label_encoder.fit_transform(dataframe['age_group'].values)\n",
    "\n",
    "# Use the encoded labels for splitting and one-hot encoding\n",
    "y = encoded_y  \n",
    "\n",
    "# Convert 'cat_id' column to numpy array to be used as groups array for GroupKFold\n",
    "groups = dataframe['cat_id'].values"
   ]
  },
  {
   "cell_type": "code",
   "execution_count": null,
   "id": "dd022efb-c85e-402e-b431-2c18e6b4e2e3",
   "metadata": {},
   "outputs": [],
   "source": [
    "# Scale the features using StandardScaler\n",
    "scaler_full = StandardScaler().fit(X)\n",
    "X_scaled = scaler_full.transform(X)\n",
    "\n",
    "# Encode labels using one-hot encoding\n",
    "y_encoded = y.astype('float32')"
   ]
  },
  {
   "cell_type": "markdown",
   "id": "d15df483-5d53-4d6f-8fc4-dd5fa0ba2f95",
   "metadata": {},
   "source": [
    "### samples for demo"
   ]
  },
  {
   "cell_type": "code",
   "execution_count": null,
   "id": "82d98458-8fc8-4ce9-83ae-930e56029ffc",
   "metadata": {},
   "outputs": [],
   "source": [
    "# Sample one cat_id for each age group\n",
    "# kitten_cat_id = dataframe[dataframe['age_group'] == 'kitten']['cat_id'].sample(1, random_state=42).iloc[0]\n",
    "# senior_cat_id = dataframe[dataframe['age_group'] == 'senior']['cat_id'].sample(1, random_state=42).iloc[0]\n",
    "\n",
    "kitten_cat_id = \"109A\"\n",
    "senior_cat_id = \"108A\"\n",
    "\n",
    "\n",
    "# Select all rows corresponding to the sampled cat_id values\n",
    "demo_samples = dataframe[(dataframe['cat_id'] == kitten_cat_id) | (dataframe['cat_id'] == senior_cat_id)].index\n",
    "\n",
    "# Convert dataframe indices to positional indices\n",
    "demo_sample_positions = dataframe.index.get_indexer(demo_samples)\n",
    "\n",
    "# Separate demonstration samples using positional indices\n",
    "X_demo = X_scaled[demo_sample_positions]\n",
    "y_demo = y_encoded[demo_sample_positions]\n",
    "\n",
    "# Remove demonstration samples from the training set\n",
    "X_train_full = np.delete(X_scaled, demo_sample_positions, axis=0)\n",
    "y_train_full = np.delete(y_encoded, demo_sample_positions, axis=0)"
   ]
  },
  {
   "cell_type": "code",
   "execution_count": null,
   "id": "7545e2b9-1bf9-41f4-a2ce-057b4da5f4dd",
   "metadata": {},
   "outputs": [],
   "source": [
    "senior_cat_id"
   ]
  },
  {
   "cell_type": "code",
   "execution_count": null,
   "id": "32c58013-380b-43a4-a28f-3064308cfdc2",
   "metadata": {},
   "outputs": [],
   "source": [
    "kitten_cat_id"
   ]
  },
  {
   "cell_type": "code",
   "execution_count": null,
   "id": "7f58d3cf-30be-4f50-9afa-bdfe3b6d4163",
   "metadata": {},
   "outputs": [],
   "source": [
    "demo_samples"
   ]
  },
  {
   "cell_type": "markdown",
   "id": "79fe72ce-7c90-4685-ae78-f8da55aa9024",
   "metadata": {},
   "source": [
    "### train"
   ]
  },
  {
   "cell_type": "code",
   "execution_count": null,
   "id": "520d9913-55d4-46e1-aecd-9e32e89052fd",
   "metadata": {},
   "outputs": [],
   "source": [
    "# EarlyStopping callback: monitor 'loss' instead of 'val_loss' for the test set\n",
    "early_stopping = EarlyStopping(\n",
    "    monitor='loss',  \n",
    "    min_delta=0.001, \n",
    "    patience=30,  \n",
    "    verbose=1,  \n",
    "    restore_best_weights=True  \n",
    ")"
   ]
  },
  {
   "cell_type": "code",
   "execution_count": null,
   "id": "5d36fca0-3968-4135-a57b-e14d61162ec9",
   "metadata": {},
   "outputs": [],
   "source": [
    "# Define optimizers\n",
    "optimizers = {\n",
    "    'Adamax': Adamax(learning_rate=0.00038188800331973483)\n",
    "}\n",
    "\n",
    "# Full model definition with dynamic number of layers\n",
    "model_full = Sequential()\n",
    "model_full.add(Dense(480, activation='relu', input_shape=(X_train_full.shape[1],)))  # units and input shape from parameters\n",
    "model_full.add(BatchNormalization())\n",
    "model_full.add(Dropout(0.27188281261238406))\n",
    "model_full.add(Dense(1, activation='sigmoid'))  # Output layer for binary classification\n",
    "\n",
    "optimizer = optimizers['Adamax']  # optimizer selection\n",
    "\n",
    "# Compile the model for binary classification\n",
    "model_full.compile(optimizer=optimizer, loss='binary_crossentropy', metrics=['accuracy'])\n",
    "\n",
    "# Train the model on the full training set\n",
    "history_full = model_full.fit(X_train_full, y_train_full, epochs=1500, batch_size=32,\n",
    "                              verbose=1, callbacks=[early_stopping])"
   ]
  },
  {
   "cell_type": "code",
   "execution_count": null,
   "id": "82d1b1bc-abf1-4c4c-8f43-a7fa0e91f250",
   "metadata": {},
   "outputs": [],
   "source": [
    "# verify encoded labels\n",
    "dataframe['encoded_label'] = y_encoded\n",
    "\n",
    "# Drop duplicates to find unique mappings\n",
    "unique_mappings = dataframe[['age_group', 'encoded_label']].drop_duplicates().reset_index(drop=True)\n",
    "\n",
    "# Print the unique mappings for verification\n",
    "print(\"Class Encoding Verification:\")\n",
    "print(unique_mappings)"
   ]
  },
  {
   "cell_type": "markdown",
   "id": "b56241b4-a36b-4c64-9b34-57a93067cea5",
   "metadata": {},
   "source": [
    "# to do change this to demo set instead of training"
   ]
  },
  {
   "cell_type": "code",
   "execution_count": null,
   "id": "12694aaa-558e-4629-9eb7-ad580bad44e9",
   "metadata": {},
   "outputs": [],
   "source": [
    "# Evaluate model on training set to get total accuracy\n",
    "loss, accuracy = model_full.evaluate(X_train_full, y_train_full, verbose=0)\n",
    "print(f\"Total Training Set Accuracy: {accuracy * 100:.2f}%\")"
   ]
  },
  {
   "cell_type": "code",
   "execution_count": null,
   "id": "c6cfdaef-a0e2-4003-a756-c656bfe7d398",
   "metadata": {},
   "outputs": [],
   "source": [
    "# Evaluate the model on the training set to get total accuracy\n",
    "loss, accuracy = model_full.evaluate(X_train_full, y_train_full, verbose=0)\n",
    "print(f\"Total Training Set Accuracy: {accuracy * 100:.2f}%\")\n",
    "\n",
    "# Evaluate the model on the demo set to get accuracy\n",
    "loss, accuracy = model_full.evaluate(X_demo, y_demo, verbose=0)\n",
    "print(f\"Demo Set Accuracy: {accuracy * 100:.2f}%\")\n",
    "\n",
    "# Predict probabilities for the demo samples\n",
    "probabilities = model_full.predict(X_demo)\n",
    "\n",
    "# Convert probabilities to binary predictions\n",
    "predictions = (probabilities > 0.5).astype(int)\n",
    "\n",
    "# Map predictions and actual labels to \"Kitten\" or \"Senior\"\n",
    "label_map = {0: 'Kitten', 1: 'Senior'}\n",
    "mapped_predictions = [label_map[pred[0]] for pred in predictions]\n",
    "mapped_actual_labels = [label_map[int(label)] for label in y_demo]\n",
    "\n",
    "# Print out the probabilities along with actual labels and predictions\n",
    "for i in range(len(probabilities)):\n",
    "    print(f\"Sample {i}: Predicted={mapped_predictions[i]}, Actual={mapped_actual_labels[i]}, Score={probabilities[i][0]:.4f}\")\n"
   ]
  },
  {
   "cell_type": "code",
   "execution_count": null,
   "id": "79691c41-3a64-470d-8c8f-51f440963ebe",
   "metadata": {},
   "outputs": [],
   "source": [
    "# Predict probabilities for the demonstration samples\n",
    "probabilities = model_full.predict(X_demo)\n",
    "\n",
    "# Print out the probabilities along with actual labels\n",
    "for i in range(len(probabilities)):\n",
    "    print(f\"Sample {i}: Probability={probabilities[i][0]}, Actual Label={y_demo[i]}\")"
   ]
  },
  {
   "cell_type": "markdown",
   "id": "a81bf63c-14a7-4474-b195-3c12a4ee3813",
   "metadata": {},
   "source": [
    "### Save model"
   ]
  },
  {
   "cell_type": "code",
   "execution_count": null,
   "id": "af34fc89-a102-40da-96c9-770f30406f42",
   "metadata": {},
   "outputs": [],
   "source": [
    "# Save the StandardScaler\n",
    "joblib.dump(scaler_full, 'scaler_full.pkl')\n",
    "\n",
    "# Save the trained model\n",
    "model_full.save('cat_age_model.keras')"
   ]
  },
  {
   "cell_type": "code",
   "execution_count": null,
   "id": "f67c47fb-ea5a-4752-b187-e30e19af2c9a",
   "metadata": {},
   "outputs": [],
   "source": []
  }
 ],
 "metadata": {
  "kernelspec": {
   "display_name": "Python 3 (ipykernel)",
   "language": "python",
   "name": "python3"
  },
  "language_info": {
   "codemirror_mode": {
    "name": "ipython",
    "version": 3
   },
   "file_extension": ".py",
   "mimetype": "text/x-python",
   "name": "python",
   "nbconvert_exporter": "python",
   "pygments_lexer": "ipython3",
   "version": "3.10.12"
  }
 },
 "nbformat": 4,
 "nbformat_minor": 5
}
